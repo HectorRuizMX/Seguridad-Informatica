{
 "cells": [
  {
   "cell_type": "markdown",
   "id": "40d067e0",
   "metadata": {},
   "source": [
    "# Control de flujo"
   ]
  },
  {
   "cell_type": "markdown",
   "id": "c4e5f21f",
   "metadata": {},
   "source": [
    "## Identación\n",
    "###  ; No existe en líneas de código\n",
    "###  {} No existe en bloques de código\n",
    "###  () No existe en funciones\n",
    "\n",
    "###  :\n",
    "\n",
    "### Identado - Espacio | 4 Espacios obligados\n",
    "a = 1\n",
    "b = 5\n",
    "\n",
    "if a<b:\n",
    "    print(\"Se cumple\")"
   ]
  },
  {
   "cell_type": "code",
   "execution_count": null,
   "id": "01ffdc78",
   "metadata": {},
   "outputs": [],
   "source": [
    "# For "
   ]
  },
  {
   "cell_type": "code",
   "execution_count": null,
   "id": "2f4bb675",
   "metadata": {},
   "outputs": [],
   "source": [
    "for(i=0;i<10;i++){\n",
    "    codigo #iteracion otro lenguajes\n",
    "}"
   ]
  },
  {
   "cell_type": "code",
   "execution_count": 1,
   "id": "aea334cf",
   "metadata": {},
   "outputs": [
    {
     "name": "stdout",
     "output_type": "stream",
     "text": [
      "Azul\n",
      "Amarillo\n",
      "Morado\n"
     ]
    }
   ],
   "source": [
    "colores = [\"Azul\",\"Amarillo\",\"Morado\"]\n",
    "for color in colores:\n",
    "    print(color)"
   ]
  },
  {
   "cell_type": "code",
   "execution_count": 4,
   "id": "da3e08a2",
   "metadata": {},
   "outputs": [
    {
     "name": "stdout",
     "output_type": "stream",
     "text": [
      "0\n",
      "3\n",
      "6\n",
      "9\n"
     ]
    }
   ],
   "source": [
    "for i in range(0,10,3):\n",
    "    print(i)"
   ]
  },
  {
   "cell_type": "code",
   "execution_count": 1,
   "id": "7ca6b9c8",
   "metadata": {
    "scrolled": true
   },
   "outputs": [
    {
     "name": "stdout",
     "output_type": "stream",
     "text": [
      "¿Desde que tabla deseas iniciar las multiplicaciones?: 1\n",
      "¿Hasta que tabla deseas multiplicar?: 3\n",
      "¿Desde que numero quieres iniciar las multiplicaciones?: 1\n",
      "¿Hasta que numero quieres dejar de multiplicar?: 5\n",
      "---------- tabla del 1 -------------\n",
      "1 * 1 = 1\n",
      "1 * 2 = 2\n",
      "1 * 3 = 3\n",
      "1 * 4 = 4\n",
      "1 * 5 = 5\n",
      "---------- tabla del 2 -------------\n",
      "2 * 1 = 2\n",
      "2 * 2 = 4\n",
      "2 * 3 = 6\n",
      "2 * 4 = 8\n",
      "2 * 5 = 10\n",
      "---------- tabla del 3 -------------\n",
      "3 * 1 = 3\n",
      "3 * 2 = 6\n",
      "3 * 3 = 9\n",
      "3 * 4 = 12\n",
      "3 * 5 = 15\n"
     ]
    }
   ],
   "source": [
    "inicio_rango = int(input('¿Desde que tabla deseas iniciar las multiplicaciones?: '))\n",
    "fin_rango = int(input('¿Hasta que tabla deseas multiplicar?: '))\n",
    "inicio_tabla = int(input('¿Desde que numero quieres iniciar las multiplicaciones?: '))\n",
    "fin_tabla = int(input('¿Hasta que numero quieres dejar de multiplicar?: '))\n",
    "\n",
    "for i in range(inicio_rango,fin_rango + 1,1):\n",
    "    header = f\"---------- tabla del {i} -------------\"\n",
    "    print(header)\n",
    "    for j in range(inicio_tabla,fin_tabla + 1,1):\n",
    "        multi = j * i\n",
    "        multiString = f\"{i} * {j} = {multi}\"\n",
    "        print(multiString)\n",
    "    \n",
    "    "
   ]
  },
  {
   "cell_type": "code",
   "execution_count": null,
   "id": "85806b71",
   "metadata": {},
   "outputs": [],
   "source": []
  },
  {
   "cell_type": "code",
   "execution_count": null,
   "id": "d6c92e98",
   "metadata": {},
   "outputs": [],
   "source": []
  }
 ],
 "metadata": {
  "kernelspec": {
   "display_name": "Python 3 (ipykernel)",
   "language": "python",
   "name": "python3"
  },
  "language_info": {
   "codemirror_mode": {
    "name": "ipython",
    "version": 3
   },
   "file_extension": ".py",
   "mimetype": "text/x-python",
   "name": "python",
   "nbconvert_exporter": "python",
   "pygments_lexer": "ipython3",
   "version": "3.11.4"
  }
 },
 "nbformat": 4,
 "nbformat_minor": 5
}
