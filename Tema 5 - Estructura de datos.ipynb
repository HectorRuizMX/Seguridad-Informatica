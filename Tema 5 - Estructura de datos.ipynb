{
 "cells": [
  {
   "cell_type": "markdown",
   "id": "0a73941e",
   "metadata": {},
   "source": [
    "# Listas"
   ]
  },
  {
   "cell_type": "code",
   "execution_count": 8,
   "id": "65130a70",
   "metadata": {},
   "outputs": [],
   "source": [
    "frutas = [\"manzana\",\"uva\",\"fresa\"]\n",
    "numero = [1,2,3,4,5]\n",
    "mixto = [1,\"manzanas\",True,3.1416]"
   ]
  },
  {
   "cell_type": "code",
   "execution_count": 9,
   "id": "f98b3a49",
   "metadata": {
    "scrolled": true
   },
   "outputs": [
    {
     "name": "stdout",
     "output_type": "stream",
     "text": [
      "manzana\n"
     ]
    }
   ],
   "source": [
    "print(frutas[0])\n",
    "# metodos\n",
    "frutas.append\n",
    "frutas.remove\n",
    "frutas.pop"
   ]
  },
  {
   "cell_type": "markdown",
   "id": "c7ffb0f6",
   "metadata": {},
   "source": [
    "# Tuplas"
   ]
  },
  {
   "cell_type": "code",
   "execution_count": null,
   "id": "fc2f2f74",
   "metadata": {},
   "outputs": [],
   "source": [
    "colores = (\"rojo\", \"verde\", \"azul\")\n",
    "# no soporta asignaciones"
   ]
  },
  {
   "cell_type": "markdown",
   "id": "751940b2",
   "metadata": {},
   "source": [
    "# Sets"
   ]
  },
  {
   "cell_type": "code",
   "execution_count": null,
   "id": "c9a1cfb6",
   "metadata": {},
   "outputs": [],
   "source": [
    "animales = {\"perro\", \"ave\", \"delfin\"}\n",
    "# metodos\n",
    "animales.add(\"gato\")\n",
    "animales.remove(\"ave\")"
   ]
  },
  {
   "cell_type": "markdown",
   "id": "16f91ce2",
   "metadata": {},
   "source": [
    "# Diccionarios"
   ]
  },
  {
   "cell_type": "code",
   "execution_count": null,
   "id": "03907aae",
   "metadata": {},
   "outputs": [],
   "source": [
    "persona = {\n",
    "    \"nombre\": \"Hector Omar\",\n",
    "    \"ap_Paterno\": \"Ruiz\",\n",
    "    \"ap_Materno\": \"Cauich\"\n",
    "    \"edad\": 23,\n",
    "    \"ciudad\": \"Cancún\",\n",
    "    \"altura\": 1.66,\n",
    "    \"peso\": 86,\n",
    "}"
   ]
  },
  {
   "cell_type": "code",
   "execution_count": 10,
   "id": "240f6b98",
   "metadata": {},
   "outputs": [
    {
     "ename": "NameError",
     "evalue": "name 'persona' is not defined",
     "output_type": "error",
     "traceback": [
      "\u001b[1;31m---------------------------------------------------------------------------\u001b[0m",
      "\u001b[1;31mNameError\u001b[0m                                 Traceback (most recent call last)",
      "Cell \u001b[1;32mIn[10], line 1\u001b[0m\n\u001b[1;32m----> 1\u001b[0m \u001b[38;5;28;01mfor\u001b[39;00m k \u001b[38;5;129;01min\u001b[39;00m persona:\n\u001b[0;32m      2\u001b[0m     \u001b[38;5;28mprint\u001b[39m(k)\n\u001b[0;32m      3\u001b[0m \u001b[38;5;28;01mfor\u001b[39;00m v \u001b[38;5;129;01min\u001b[39;00m persona\u001b[38;5;241m.\u001b[39mvalues():\n",
      "\u001b[1;31mNameError\u001b[0m: name 'persona' is not defined"
     ]
    }
   ],
   "source": [
    "for k in persona:\n",
    "    print(k)\n",
    "for v in persona.values():\n",
    "    print(v)\n",
    "for k,v in persona.items():\n",
    "    print (f\"la clave es: {k} y el valor es: {v}\")"
   ]
  },
  {
   "cell_type": "code",
   "execution_count": 3,
   "id": "fcd08e6d",
   "metadata": {
    "scrolled": false
   },
   "outputs": [],
   "source": [
    "persona = {\n",
    "    \"nombre\": \"Hector Omar\",\n",
    "    \"ap_Paterno\": \"Ruiz\",\n",
    "    \"ap_Materno\": \"Cauich\",\n",
    "    \"edad\": 23,\n",
    "    \"ciudad\": \"Cancún\",\n",
    "    \"altura\": 1.66,\n",
    "    \"peso\": 82\n",
    "}"
   ]
  },
  {
   "cell_type": "code",
   "execution_count": 4,
   "id": "d9a3e6a3",
   "metadata": {
    "scrolled": true
   },
   "outputs": [
    {
     "name": "stdout",
     "output_type": "stream",
     "text": [
      "Hola Hector Omar tu indice de masa corporal es 29.8, tienes Sobrepeso\n"
     ]
    }
   ],
   "source": [
    "def calculaPeso(altura,peso,nombre):\n",
    "    \n",
    "    indice = peso/altura**2\n",
    "    indice = round(indice,1)\n",
    "    \n",
    "    if indice < 18.5:\n",
    "        nivel = 'Bajo Peso'\n",
    "    elif indice >= 18.5 and indice <= 24.9:\n",
    "        nivel = 'Normal'\n",
    "    elif indice >= 25 and indice <= 29.9:\n",
    "        nivel = 'Sobrepeso'\n",
    "    else:\n",
    "        nivel = 'Obesidad'\n",
    "        \n",
    "    print(f\"Hola {nombre} tu indice de masa corporal es {indice}, tienes {nivel}\")\n",
    "    \n",
    "alturaPer = persona[\"altura\"]\n",
    "pesoPer = persona[\"peso\"]\n",
    "nombrePer = persona[\"nombre\"]\n",
    "\n",
    "calculaPeso(alturaPer,pesoPer,nombrePer)"
   ]
  }
 ],
 "metadata": {
  "kernelspec": {
   "display_name": "Python 3 (ipykernel)",
   "language": "python",
   "name": "python3"
  },
  "language_info": {
   "codemirror_mode": {
    "name": "ipython",
    "version": 3
   },
   "file_extension": ".py",
   "mimetype": "text/x-python",
   "name": "python",
   "nbconvert_exporter": "python",
   "pygments_lexer": "ipython3",
   "version": "3.11.4"
  }
 },
 "nbformat": 4,
 "nbformat_minor": 5
}
