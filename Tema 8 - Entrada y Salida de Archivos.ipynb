{
 "cells": [
  {
   "cell_type": "code",
   "execution_count": null,
   "id": "9bd377cb",
   "metadata": {},
   "outputs": [],
   "source": [
    "Los modos comunes son:\n",
    "\n",
    "\"r\": Lectura (por defecto).\n",
    "\"w\": Escritura (sobrescribe el archivo si ya existe).\n",
    "\"a\": Añadir (agrega contenido al final del archivo si ya existe).\n",
    "\"b\": Modo binario (se utiliza junto con otros modos, como \"rb\" o \"wb\")."
   ]
  },
  {
   "cell_type": "code",
   "execution_count": 2,
   "id": "d2b02cc2",
   "metadata": {
    "scrolled": false
   },
   "outputs": [
    {
     "name": "stdout",
     "output_type": "stream",
     "text": [
      "Hola Amigos de Yutub\n"
     ]
    }
   ],
   "source": [
    "archivo = open(\"hola.txt\",\"r\")\n",
    "resultado =  archivo.read()\n",
    "print(resultado)"
   ]
  },
  {
   "cell_type": "code",
   "execution_count": null,
   "id": "c4ce1254",
   "metadata": {},
   "outputs": [],
   "source": [
    "!pip install PyPDF2"
   ]
  },
  {
   "cell_type": "code",
   "execution_count": 8,
   "id": "91c87128",
   "metadata": {
    "scrolled": false
   },
   "outputs": [
    {
     "name": "stdout",
     "output_type": "stream",
     "text": [
      "Requirement already satisfied: PyPDF2 in c:\\users\\hrcde\\anaconda3\\lib\\site-packages (3.0.1)\n",
      "Dart Guia de atajos\n",
      " \n",
      "Interpolación de Strings Variables con posibilidad nula: \n",
      "Operadores de valores nulos \n",
      "\n",
      "Acceso a propiedades opcionales \n",
      "\n",
      "Tipos de colecciones Inferir tipo de forma automática\n",
      "\n",
      "\n",
      "Pero se puede especiﬁcar de manera manual\n",
      "\n",
      "También aplica si aplicamos un lista de una clase base, los valores internos pueden ser de subclases.\n",
      "\n",
      "Sintaxis de Flecha Es básicamente una función que inmediatamente retorna un valor.\n",
      "\n",
      "Cascades \n",
      "\n",
      "StringResultado'${3 + 2}''5'${\"word\".toUpperCase()}''WORD''$myObject'El valor demyObject.toString()int a = null; // NO-Valido en null-safe Dart.int? a = null; // Valido en null-safe Dart.int? a; // El valor inicial de a es NULL.int? a; // = nulla ??= 3;print(a); // <-- Imprime 3a ??= 5;print(a); // <-- Aún imprime 3print(1 ?? 3); // <-- Imprime 1.print(null ?? 12); // <-- Imprime 12.myObject?.someProperty// Con ternario(myObject != null) ? myObject.someProperty : null;myObject?.someProperty?.someMethod();final aListOfStrings = ['one', 'two', 'three'];final aSetOfStrings = {'one', 'two', 'three'};final aMapOfStringsToInts = {  'one': 1,  'two': 2,  'three': 3,};final aListOfInts = <int>[];final aSetOfInts = <int>{};final aMapOfIntToDouble = <int, double>{};final aListOfBaseType = <BaseType>[SubType(), SubType()];/// Función normalbool hasEmpty = aListOfStrings.any((s) {  return s.isEmpty;});/// Función de flechabool hasEmpty = aListOfStrings.any((s) => s.isEmpty);/// Sin cascadasmyObject.someMethod();myObject.someOtherMethod();/// Con cascadasmyObject  ..someMethod()  ..someOtherMethod()/// Se puede con propiedadesvar button = querySelector('#confirm');button?.text = 'Confirm';button?.classes.add('important');button?.onClick.listen((e) => window.alert('Confirmed!'));button?.scrollIntoView();querySelector('#confirm')  ?..text = 'Confirm'  ..classes.add('important')  ..onClick.listen((e) =>          window.alert('Confirmed!'))  ..scrollIntoView();Dart getting started docs Cursos y cupones en fernando-herrera.com\n",
      "sssssssssssssssssssssssssssssssssssssssssss\n",
      "ssssssssssssssssssssssss\n"
     ]
    }
   ],
   "source": [
    "from PyPDF2 import PdfReader\n",
    "\n",
    "reader = PdfReader(\"dart-cheat-sheet.pdf\")\n",
    "page = reader.pages[0]\n",
    "print(page.extract_text())"
   ]
  },
  {
   "cell_type": "code",
   "execution_count": 2,
   "id": "5f7a228a",
   "metadata": {
    "scrolled": true
   },
   "outputs": [
    {
     "name": "stdout",
     "output_type": "stream",
     "text": [
      "Collecting python-docx\n",
      "  Obtaining dependency information for python-docx from https://files.pythonhosted.org/packages/5f/d8/6948f7ac00edf74bfa52b3c5e3073df20284bec1db466d13e668fe991707/python_docx-1.1.0-py3-none-any.whl.metadata\n",
      "  Downloading python_docx-1.1.0-py3-none-any.whl.metadata (2.0 kB)\n",
      "Requirement already satisfied: lxml>=3.1.0 in c:\\users\\hrcde\\anaconda3\\lib\\site-packages (from python-docx) (4.9.2)\n",
      "Requirement already satisfied: typing-extensions in c:\\users\\hrcde\\anaconda3\\lib\\site-packages (from python-docx) (4.7.1)\n",
      "Downloading python_docx-1.1.0-py3-none-any.whl (239 kB)\n",
      "   ---------------------------------------- 0.0/239.6 kB ? eta -:--:--\n",
      "   ----- ---------------------------------- 30.7/239.6 kB 1.4 MB/s eta 0:00:01\n",
      "   --------------- ------------------------ 92.2/239.6 kB 1.1 MB/s eta 0:00:01\n",
      "   ------------------------- -------------- 153.6/239.6 kB 1.1 MB/s eta 0:00:01\n",
      "   ---------------------------------------  235.5/239.6 kB 1.6 MB/s eta 0:00:01\n",
      "   ---------------------------------------- 239.6/239.6 kB 1.3 MB/s eta 0:00:00\n",
      "Installing collected packages: python-docx\n",
      "Successfully installed python-docx-1.1.0\n"
     ]
    }
   ],
   "source": [
    "!pip install python-docx"
   ]
  },
  {
   "cell_type": "code",
   "execution_count": 5,
   "id": "8144c814",
   "metadata": {
    "scrolled": false
   },
   "outputs": [
    {
     "name": "stdout",
     "output_type": "stream",
     "text": [
      "Hola Mundo.\n",
      "Esto es un documento de Microsoft Word.\n"
     ]
    }
   ],
   "source": [
    "import docx\n",
    "\n",
    "document =  docx.Document('Word.docx')\n",
    "for parrafo in document.paragraphs:\n",
    "    print(parrafo.text)"
   ]
  },
  {
   "cell_type": "code",
   "execution_count": 51,
   "id": "df9541a5",
   "metadata": {
    "scrolled": true
   },
   "outputs": [
    {
     "name": "stdout",
     "output_type": "stream",
     "text": [
      "Requirement already satisfied: pandas in c:\\users\\hrcde\\anaconda3\\lib\\site-packages (1.5.3)\n",
      "Requirement already satisfied: python-dateutil>=2.8.1 in c:\\users\\hrcde\\anaconda3\\lib\\site-packages (from pandas) (2.8.2)\n",
      "Requirement already satisfied: pytz>=2020.1 in c:\\users\\hrcde\\anaconda3\\lib\\site-packages (from pandas) (2022.7)\n",
      "Requirement already satisfied: numpy>=1.21.0 in c:\\users\\hrcde\\anaconda3\\lib\\site-packages (from pandas) (1.24.3)\n",
      "Requirement already satisfied: six>=1.5 in c:\\users\\hrcde\\anaconda3\\lib\\site-packages (from python-dateutil>=2.8.1->pandas) (1.16.0)\n"
     ]
    }
   ],
   "source": [
    "!pip install pandas"
   ]
  },
  {
   "cell_type": "code",
   "execution_count": 53,
   "id": "1406093b",
   "metadata": {
    "scrolled": true
   },
   "outputs": [
    {
     "data": {
      "text/html": [
       "<div>\n",
       "<style scoped>\n",
       "    .dataframe tbody tr th:only-of-type {\n",
       "        vertical-align: middle;\n",
       "    }\n",
       "\n",
       "    .dataframe tbody tr th {\n",
       "        vertical-align: top;\n",
       "    }\n",
       "\n",
       "    .dataframe thead th {\n",
       "        text-align: right;\n",
       "    }\n",
       "</style>\n",
       "<table border=\"1\" class=\"dataframe\">\n",
       "  <thead>\n",
       "    <tr style=\"text-align: right;\">\n",
       "      <th></th>\n",
       "      <th>Folio</th>\n",
       "      <th>Vendedor</th>\n",
       "      <th>Monto</th>\n",
       "      <th>Descuento</th>\n",
       "      <th>Total</th>\n",
       "    </tr>\n",
       "  </thead>\n",
       "  <tbody>\n",
       "    <tr>\n",
       "      <th>0</th>\n",
       "      <td>1</td>\n",
       "      <td>Pedro</td>\n",
       "      <td>235</td>\n",
       "      <td>0.10</td>\n",
       "      <td>211.5</td>\n",
       "    </tr>\n",
       "    <tr>\n",
       "      <th>1</th>\n",
       "      <td>2</td>\n",
       "      <td>Juan</td>\n",
       "      <td>1213</td>\n",
       "      <td>0.00</td>\n",
       "      <td>1213.0</td>\n",
       "    </tr>\n",
       "    <tr>\n",
       "      <th>2</th>\n",
       "      <td>3</td>\n",
       "      <td>Jhon</td>\n",
       "      <td>121</td>\n",
       "      <td>0.10</td>\n",
       "      <td>108.9</td>\n",
       "    </tr>\n",
       "    <tr>\n",
       "      <th>3</th>\n",
       "      <td>4</td>\n",
       "      <td>Pedro</td>\n",
       "      <td>312</td>\n",
       "      <td>0.25</td>\n",
       "      <td>234.0</td>\n",
       "    </tr>\n",
       "    <tr>\n",
       "      <th>4</th>\n",
       "      <td>5</td>\n",
       "      <td>Jhon</td>\n",
       "      <td>32</td>\n",
       "      <td>0.00</td>\n",
       "      <td>32.0</td>\n",
       "    </tr>\n",
       "    <tr>\n",
       "      <th>5</th>\n",
       "      <td>6</td>\n",
       "      <td>Jhon</td>\n",
       "      <td>234</td>\n",
       "      <td>0.00</td>\n",
       "      <td>234.0</td>\n",
       "    </tr>\n",
       "  </tbody>\n",
       "</table>\n",
       "</div>"
      ],
      "text/plain": [
       "   Folio Vendedor  Monto  Descuento   Total\n",
       "0      1    Pedro    235       0.10   211.5\n",
       "1      2     Juan   1213       0.00  1213.0\n",
       "2      3     Jhon    121       0.10   108.9\n",
       "3      4    Pedro    312       0.25   234.0\n",
       "4      5     Jhon     32       0.00    32.0\n",
       "5      6     Jhon    234       0.00   234.0"
      ]
     },
     "execution_count": 53,
     "metadata": {},
     "output_type": "execute_result"
    }
   ],
   "source": [
    "import pandas\n",
    "pandas.read_excel(\"Libro1.xlsx\")"
   ]
  }
 ],
 "metadata": {
  "kernelspec": {
   "display_name": "Python 3 (ipykernel)",
   "language": "python",
   "name": "python3"
  },
  "language_info": {
   "codemirror_mode": {
    "name": "ipython",
    "version": 3
   },
   "file_extension": ".py",
   "mimetype": "text/x-python",
   "name": "python",
   "nbconvert_exporter": "python",
   "pygments_lexer": "ipython3",
   "version": "3.11.4"
  }
 },
 "nbformat": 4,
 "nbformat_minor": 5
}
