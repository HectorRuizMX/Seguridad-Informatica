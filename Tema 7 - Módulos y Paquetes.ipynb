{
 "cells": [
  {
   "cell_type": "code",
   "execution_count": null,
   "id": "9ee8d5d2",
   "metadata": {
    "scrolled": true
   },
   "outputs": [],
   "source": [
    "from mipaquete import modulo1\n",
    "\n",
    "modulo1.mequiere()"
   ]
  },
  {
   "cell_type": "code",
   "execution_count": 2,
   "id": "77f3ee05",
   "metadata": {
    "scrolled": false
   },
   "outputs": [
    {
     "name": "stdout",
     "output_type": "stream",
     "text": [
      "Ingresa un numero para convertir en binario16\n"
     ]
    },
    {
     "data": {
      "text/plain": [
       "'Tu número en binario es: 10000'"
      ]
     },
     "execution_count": 2,
     "metadata": {},
     "output_type": "execute_result"
    }
   ],
   "source": [
    "from package  import binarios\n",
    "binarios.convert()"
   ]
  },
  {
   "cell_type": "code",
   "execution_count": 3,
   "id": "f872bfc0",
   "metadata": {
    "scrolled": true
   },
   "outputs": [
    {
     "name": "stdout",
     "output_type": "stream",
     "text": [
      "Ingresa tu dia de nacimiento (dd): 25\n",
      "Ingresa tu mes de nacimiento(mm): 09\n",
      "Ingresa tu año de nacimiento(aaaa): 1990\n",
      "Tu signo zodiacal es Libra.\n"
     ]
    }
   ],
   "source": [
    "from package import zodiaco\n",
    "\n",
    "zodiaco.signoZodiacal()"
   ]
  },
  {
   "cell_type": "code",
   "execution_count": 5,
   "id": "c651f821",
   "metadata": {},
   "outputs": [
    {
     "name": "stdout",
     "output_type": "stream",
     "text": [
      "cantidad de palabras: 720\n",
      "palabras: ['cehort', 'cehotr', 'cehrot', 'cehrto', 'cehtor', 'cehtro', 'ceohrt', 'ceohtr', 'ceorht', 'ceorth', 'ceothr', 'ceotrh', 'cerhot', 'cerhto', 'ceroht', 'ceroth', 'certho', 'certoh', 'cethor', 'cethro', 'cetohr', 'cetorh', 'cetrho', 'cetroh', 'cheort', 'cheotr', 'cherot', 'cherto', 'chetor', 'chetro', 'choert', 'choetr', 'choret', 'chorte', 'choter', 'chotre', 'chreot', 'chreto', 'chroet', 'chrote', 'chrteo', 'chrtoe', 'chteor', 'chtero', 'chtoer', 'chtore', 'chtreo', 'chtroe', 'coehrt', 'coehtr', 'coerht', 'coerth', 'coethr', 'coetrh', 'cohert', 'cohetr', 'cohret', 'cohrte', 'cohter', 'cohtre', 'coreht', 'coreth', 'corhet', 'corhte', 'corteh', 'corthe', 'cotehr', 'coterh', 'cother', 'cothre', 'cotreh', 'cotrhe', 'crehot', 'crehto', 'creoht', 'creoth', 'cretho', 'cretoh', 'crheot', 'crheto', 'crhoet', 'crhote', 'crhteo', 'crhtoe', 'croeht', 'croeth', 'crohet', 'crohte', 'croteh', 'crothe', 'crteho', 'crteoh', 'crtheo', 'crthoe', 'crtoeh', 'crtohe', 'ctehor', 'ctehro', 'cteohr', 'cteorh', 'cterho', 'cteroh', 'ctheor', 'cthero', 'cthoer', 'cthore', 'cthreo', 'cthroe', 'ctoehr', 'ctoerh', 'ctoher', 'ctohre', 'ctoreh', 'ctorhe', 'ctreho', 'ctreoh', 'ctrheo', 'ctrhoe', 'ctroeh', 'ctrohe', 'echort', 'echotr', 'echrot', 'echrto', 'echtor', 'echtro', 'ecohrt', 'ecohtr', 'ecorht', 'ecorth', 'ecothr', 'ecotrh', 'ecrhot', 'ecrhto', 'ecroht', 'ecroth', 'ecrtho', 'ecrtoh', 'ecthor', 'ecthro', 'ectohr', 'ectorh', 'ectrho', 'ectroh', 'ehcort', 'ehcotr', 'ehcrot', 'ehcrto', 'ehctor', 'ehctro', 'ehocrt', 'ehoctr', 'ehorct', 'ehortc', 'ehotcr', 'ehotrc', 'ehrcot', 'ehrcto', 'ehroct', 'ehrotc', 'ehrtco', 'ehrtoc', 'ehtcor', 'ehtcro', 'ehtocr', 'ehtorc', 'ehtrco', 'ehtroc', 'eochrt', 'eochtr', 'eocrht', 'eocrth', 'eocthr', 'eoctrh', 'eohcrt', 'eohctr', 'eohrct', 'eohrtc', 'eohtcr', 'eohtrc', 'eorcht', 'eorcth', 'eorhct', 'eorhtc', 'eortch', 'eorthc', 'eotchr', 'eotcrh', 'eothcr', 'eothrc', 'eotrch', 'eotrhc', 'erchot', 'erchto', 'ercoht', 'ercoth', 'erctho', 'erctoh', 'erhcot', 'erhcto', 'erhoct', 'erhotc', 'erhtco', 'erhtoc', 'erocht', 'erocth', 'erohct', 'erohtc', 'erotch', 'erothc', 'ertcho', 'ertcoh', 'erthco', 'erthoc', 'ertoch', 'ertohc', 'etchor', 'etchro', 'etcohr', 'etcorh', 'etcrho', 'etcroh', 'ethcor', 'ethcro', 'ethocr', 'ethorc', 'ethrco', 'ethroc', 'etochr', 'etocrh', 'etohcr', 'etohrc', 'etorch', 'etorhc', 'etrcho', 'etrcoh', 'etrhco', 'etrhoc', 'etroch', 'etrohc', 'hceort', 'hceotr', 'hcerot', 'hcerto', 'hcetor', 'hcetro', 'hcoert', 'hcoetr', 'hcoret', 'hcorte', 'hcoter', 'hcotre', 'hcreot', 'hcreto', 'hcroet', 'hcrote', 'hcrteo', 'hcrtoe', 'hcteor', 'hctero', 'hctoer', 'hctore', 'hctreo', 'hctroe', 'hecort', 'hecotr', 'hecrot', 'hecrto', 'hector', 'hectro', 'heocrt', 'heoctr', 'heorct', 'heortc', 'heotcr', 'heotrc', 'hercot', 'hercto', 'heroct', 'herotc', 'hertco', 'hertoc', 'hetcor', 'hetcro', 'hetocr', 'hetorc', 'hetrco', 'hetroc', 'hocert', 'hocetr', 'hocret', 'hocrte', 'hocter', 'hoctre', 'hoecrt', 'hoectr', 'hoerct', 'hoertc', 'hoetcr', 'hoetrc', 'horcet', 'horcte', 'horect', 'horetc', 'hortce', 'hortec', 'hotcer', 'hotcre', 'hotecr', 'hoterc', 'hotrce', 'hotrec', 'hrceot', 'hrceto', 'hrcoet', 'hrcote', 'hrcteo', 'hrctoe', 'hrecot', 'hrecto', 'hreoct', 'hreotc', 'hretco', 'hretoc', 'hrocet', 'hrocte', 'hroect', 'hroetc', 'hrotce', 'hrotec', 'hrtceo', 'hrtcoe', 'hrteco', 'hrteoc', 'hrtoce', 'hrtoec', 'htceor', 'htcero', 'htcoer', 'htcore', 'htcreo', 'htcroe', 'htecor', 'htecro', 'hteocr', 'hteorc', 'hterco', 'hteroc', 'htocer', 'htocre', 'htoecr', 'htoerc', 'htorce', 'htorec', 'htrceo', 'htrcoe', 'htreco', 'htreoc', 'htroce', 'htroec', 'ocehrt', 'ocehtr', 'ocerht', 'ocerth', 'ocethr', 'ocetrh', 'ochert', 'ochetr', 'ochret', 'ochrte', 'ochter', 'ochtre', 'ocreht', 'ocreth', 'ocrhet', 'ocrhte', 'ocrteh', 'ocrthe', 'octehr', 'octerh', 'octher', 'octhre', 'octreh', 'octrhe', 'oechrt', 'oechtr', 'oecrht', 'oecrth', 'oecthr', 'oectrh', 'oehcrt', 'oehctr', 'oehrct', 'oehrtc', 'oehtcr', 'oehtrc', 'oercht', 'oercth', 'oerhct', 'oerhtc', 'oertch', 'oerthc', 'oetchr', 'oetcrh', 'oethcr', 'oethrc', 'oetrch', 'oetrhc', 'ohcert', 'ohcetr', 'ohcret', 'ohcrte', 'ohcter', 'ohctre', 'ohecrt', 'ohectr', 'oherct', 'ohertc', 'ohetcr', 'ohetrc', 'ohrcet', 'ohrcte', 'ohrect', 'ohretc', 'ohrtce', 'ohrtec', 'ohtcer', 'ohtcre', 'ohtecr', 'ohterc', 'ohtrce', 'ohtrec', 'orceht', 'orceth', 'orchet', 'orchte', 'orcteh', 'orcthe', 'orecht', 'orecth', 'orehct', 'orehtc', 'oretch', 'orethc', 'orhcet', 'orhcte', 'orhect', 'orhetc', 'orhtce', 'orhtec', 'ortceh', 'ortche', 'ortech', 'ortehc', 'orthce', 'orthec', 'otcehr', 'otcerh', 'otcher', 'otchre', 'otcreh', 'otcrhe', 'otechr', 'otecrh', 'otehcr', 'otehrc', 'oterch', 'oterhc', 'othcer', 'othcre', 'othecr', 'otherc', 'othrce', 'othrec', 'otrceh', 'otrche', 'otrech', 'otrehc', 'otrhce', 'otrhec', 'rcehot', 'rcehto', 'rceoht', 'rceoth', 'rcetho', 'rcetoh', 'rcheot', 'rcheto', 'rchoet', 'rchote', 'rchteo', 'rchtoe', 'rcoeht', 'rcoeth', 'rcohet', 'rcohte', 'rcoteh', 'rcothe', 'rcteho', 'rcteoh', 'rctheo', 'rcthoe', 'rctoeh', 'rctohe', 'rechot', 'rechto', 'recoht', 'recoth', 'rectho', 'rectoh', 'rehcot', 'rehcto', 'rehoct', 'rehotc', 'rehtco', 'rehtoc', 'reocht', 'reocth', 'reohct', 'reohtc', 'reotch', 'reothc', 'retcho', 'retcoh', 'rethco', 'rethoc', 'retoch', 'retohc', 'rhceot', 'rhceto', 'rhcoet', 'rhcote', 'rhcteo', 'rhctoe', 'rhecot', 'rhecto', 'rheoct', 'rheotc', 'rhetco', 'rhetoc', 'rhocet', 'rhocte', 'rhoect', 'rhoetc', 'rhotce', 'rhotec', 'rhtceo', 'rhtcoe', 'rhteco', 'rhteoc', 'rhtoce', 'rhtoec', 'roceht', 'roceth', 'rochet', 'rochte', 'rocteh', 'rocthe', 'roecht', 'roecth', 'roehct', 'roehtc', 'roetch', 'roethc', 'rohcet', 'rohcte', 'rohect', 'rohetc', 'rohtce', 'rohtec', 'rotceh', 'rotche', 'rotech', 'rotehc', 'rothce', 'rothec', 'rtceho', 'rtceoh', 'rtcheo', 'rtchoe', 'rtcoeh', 'rtcohe', 'rtecho', 'rtecoh', 'rtehco', 'rtehoc', 'rteoch', 'rteohc', 'rthceo', 'rthcoe', 'rtheco', 'rtheoc', 'rthoce', 'rthoec', 'rtoceh', 'rtoche', 'rtoech', 'rtoehc', 'rtohce', 'rtohec', 'tcehor', 'tcehro', 'tceohr', 'tceorh', 'tcerho', 'tceroh', 'tcheor', 'tchero', 'tchoer', 'tchore', 'tchreo', 'tchroe', 'tcoehr', 'tcoerh', 'tcoher', 'tcohre', 'tcoreh', 'tcorhe', 'tcreho', 'tcreoh', 'tcrheo', 'tcrhoe', 'tcroeh', 'tcrohe', 'techor', 'techro', 'tecohr', 'tecorh', 'tecrho', 'tecroh', 'tehcor', 'tehcro', 'tehocr', 'tehorc', 'tehrco', 'tehroc', 'teochr', 'teocrh', 'teohcr', 'teohrc', 'teorch', 'teorhc', 'tercho', 'tercoh', 'terhco', 'terhoc', 'teroch', 'terohc', 'thceor', 'thcero', 'thcoer', 'thcore', 'thcreo', 'thcroe', 'thecor', 'thecro', 'theocr', 'theorc', 'therco', 'theroc', 'thocer', 'thocre', 'thoecr', 'thoerc', 'thorce', 'thorec', 'thrceo', 'thrcoe', 'threco', 'threoc', 'throce', 'throec', 'tocehr', 'tocerh', 'tocher', 'tochre', 'tocreh', 'tocrhe', 'toechr', 'toecrh', 'toehcr', 'toehrc', 'toerch', 'toerhc', 'tohcer', 'tohcre', 'tohecr', 'toherc', 'tohrce', 'tohrec', 'torceh', 'torche', 'torech', 'torehc', 'torhce', 'torhec', 'trceho', 'trceoh', 'trcheo', 'trchoe', 'trcoeh', 'trcohe', 'trecho', 'trecoh', 'trehco', 'trehoc', 'treoch', 'treohc', 'trhceo', 'trhcoe', 'trheco', 'trheoc', 'trhoce', 'trhoec', 'troceh', 'troche', 'troech', 'troehc', 'trohce', 'trohec']\n"
     ]
    }
   ],
   "source": [
    "from package import Permutaciones\n",
    "permutaciones = Permutaciones.getExchangedWord(\"hector\")\n",
    "\n",
    "palabras = permutaciones[\"palabras\"]\n",
    "cantidad = permutaciones[\"cantidad\"]\n",
    "\n",
    "print(f\"cantidad de palabras: {cantidad}\")\n",
    "print(f\"palabras: {palabras}\")"
   ]
  }
 ],
 "metadata": {
  "kernelspec": {
   "display_name": "Python 3 (ipykernel)",
   "language": "python",
   "name": "python3"
  },
  "language_info": {
   "codemirror_mode": {
    "name": "ipython",
    "version": 3
   },
   "file_extension": ".py",
   "mimetype": "text/x-python",
   "name": "python",
   "nbconvert_exporter": "python",
   "pygments_lexer": "ipython3",
   "version": "3.11.4"
  }
 },
 "nbformat": 4,
 "nbformat_minor": 5
}
